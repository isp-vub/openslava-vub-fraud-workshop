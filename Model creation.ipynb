{
 "cells": [
  {
   "cell_type": "code",
   "execution_count": null,
   "id": "943054d6",
   "metadata": {
    "scrolled": true
   },
   "outputs": [],
   "source": [
    "import pandas as pd\n",
    "from pyod.models.ecod import ECOD\n",
    "import numpy as np\n",
    "from sklearn.preprocessing import MinMaxScaler\n",
    "pd.options.mode.chained_assignment = None \n",
    "import matplotlib.pyplot as plt"
   ]
  },
  {
   "cell_type": "code",
   "execution_count": null,
   "id": "962bc3d9",
   "metadata": {
    "scrolled": false
   },
   "outputs": [],
   "source": [
    "df_customer = pd.read_feather('data/synth_customer_metadata_openslava.ftr')\n",
    "df_customer = df_customer.dropna()\n",
    "df_customer"
   ]
  },
  {
   "cell_type": "code",
   "execution_count": null,
   "id": "bf9ca3f1",
   "metadata": {
    "scrolled": false
   },
   "outputs": [],
   "source": [
    "df_customer['CITY_ADDRESS'] = df_customer['CITY_ADDRESS'].astype('category').cat.codes\n",
    "df_customer['GENDER'] = df_customer['GENDER'].astype('category').cat.codes\n",
    "df_customer"
   ]
  },
  {
   "cell_type": "code",
   "execution_count": null,
   "id": "b3bfbeab",
   "metadata": {},
   "outputs": [],
   "source": [
    "df_transaction = pd.read_feather('data/synth_transactions_openslava.ftr')\n",
    "df_transaction = df_transaction.dropna()\n",
    "df_transaction"
   ]
  },
  {
   "cell_type": "code",
   "execution_count": null,
   "id": "192421fd",
   "metadata": {},
   "outputs": [],
   "source": [
    "df_transaction = df_transaction.drop('CURRENCY', axis=1)"
   ]
  },
  {
   "cell_type": "code",
   "execution_count": null,
   "id": "ad9362b9",
   "metadata": {},
   "outputs": [],
   "source": [
    "df_transaction['DT_TXN_DAY'] = df_transaction['DT_TXN'].astype(str)\n",
    "df_transaction['DT_TXN_DAY'] = df_transaction['DT_TXN_DAY'].apply(lambda x: x[len('YYYY-MM-'):])\n",
    "df_transaction['DT_TXN_DAY'] = df_transaction['DT_TXN_DAY'].astype(int)\n",
    "\n",
    "df_transaction['DT_TXN_MONTH'] = df_transaction['DT_TXN'].astype(str)\n",
    "df_transaction['DT_TXN_MONTH'] = df_transaction['DT_TXN_MONTH'].apply(lambda x: x[len('YYYY-'):-len('-DD')])\n",
    "df_transaction['DT_TXN_MONTH'] = df_transaction['DT_TXN_MONTH'].astype(int)\n",
    "\n",
    "df_transaction = df_transaction.drop('DT_TXN', axis=1)\n",
    "df_transaction"
   ]
  },
  {
   "cell_type": "code",
   "execution_count": null,
   "id": "dc1b8709",
   "metadata": {
    "scrolled": false
   },
   "outputs": [],
   "source": [
    "df_merged = pd.merge(df_customer, df_transaction, on='ID')\n",
    "df_merged"
   ]
  },
  {
   "cell_type": "code",
   "execution_count": null,
   "id": "ebcadba8",
   "metadata": {},
   "outputs": [],
   "source": [
    "df_merged_train = df_merged[df_merged['ID'] < int(4111*0.8)]\n",
    "df_merged_train.shape"
   ]
  },
  {
   "cell_type": "code",
   "execution_count": null,
   "id": "355bf5a4",
   "metadata": {},
   "outputs": [],
   "source": [
    "df_merged_test = df_merged[df_merged['ID'] >= int(4111*0.8)]\n",
    "df_merged_test.shape"
   ]
  },
  {
   "cell_type": "code",
   "execution_count": null,
   "id": "589a775b",
   "metadata": {},
   "outputs": [],
   "source": [
    "global_scaler = MinMaxScaler(feature_range=(0, 10), copy=False)\n",
    "global_train_scaled = global_scaler.fit_transform(np.array(df_merged_train.drop('ID', axis=1)))\n",
    "global_test_scaled = global_scaler.transform(np.array(df_merged_test.drop('ID', axis=1)))\n",
    "global_model = ECOD(contamination=0.0001, n_jobs=-1)\n",
    "global_model.fit(global_scaled)\n",
    "predictions = ecod.predict(global_test_scaled)"
   ]
  },
  {
   "cell_type": "code",
   "execution_count": null,
   "id": "e465fe73",
   "metadata": {},
   "outputs": [],
   "source": [
    "anomalies = sum(predictions)\n",
    "non_anomalies = len(predictions) - anomalies\n",
    "print(f'anomalies: {anomalies} non_anomalies: {non_anomalies}')\n",
    "fig, ax = plt.subplots()\n",
    "labels = ['anomalies', 'non-anomalies']\n",
    "bar_colors = ['tab:red', 'tab:blue']\n",
    "ax.bar(labels, [anomalies, non_anomalies], color=bar_colors)\n",
    "ax.set_ylabel('Transaction count')\n",
    "ax.set_title('Anomaly distribution')\n",
    "plt.yscale(\"log\")\n",
    "plt.show()"
   ]
  },
  {
   "cell_type": "code",
   "execution_count": null,
   "id": "2b8fad16",
   "metadata": {},
   "outputs": [],
   "source": [
    "def create_ratio_column(df, column_name):\n",
    "    df[f'{column_name}_ratio'] = df.apply(lambda row: row.VL_TXN / row[column_name], axis=1)"
   ]
  },
  {
   "cell_type": "code",
   "execution_count": null,
   "id": "251a2fcc",
   "metadata": {},
   "outputs": [],
   "source": [
    "df_list = [g for _, g in df_merged.groupby('ID')]\n",
    "local_sample = df_list[-1]\n",
    "local_sample"
   ]
  },
  {
   "cell_type": "code",
   "execution_count": null,
   "id": "6cee0e6e",
   "metadata": {},
   "outputs": [],
   "source": [
    "dummy_transaction = local_sample.values.tolist()[0]\n",
    "local_sample_features = list(local_sample)\n",
    "dummy_transaction"
   ]
  },
  {
   "cell_type": "code",
   "execution_count": null,
   "id": "2ec8726a",
   "metadata": {},
   "outputs": [],
   "source": [
    "dummy_transaction[local_sample_features.index('VL_TXN')] = 50000\n",
    "dummy_transaction[local_sample_features.index('DT_TXN_MONTH')] = 12\n",
    "dummy_transaction_df = pd.DataFrame([dummy_transaction], columns=local_sample_features)\n",
    "local_sample = pd.concat([dummy_transaction_df, local_sample])\n",
    "local_sample"
   ]
  },
  {
   "cell_type": "code",
   "execution_count": null,
   "id": "a41c69e1",
   "metadata": {},
   "outputs": [],
   "source": [
    "local_sample = local_sample.drop(['ID', 'GENDER', 'AGE_YEARS', 'CITY_ADDRESS', 'CNT_CARDS', 'CNT_TXN', 'CNT_TXN_3M',\n",
    "                         'CNT_TXN_6M', 'CNT_TXN_12M'], axis=1)\n",
    "columns_to_ratio = ['VL_CURR_BALANCE', 'VL_INCOME', 'VL_TXN_ALL', 'VL_CURR_BALANCE_3M', 'VL_TXN_ALL_3M', 'VL_INCOME_3M',\n",
    "                    'VL_CURR_BALANCE_6M', 'VL_TXN_ALL_6M', 'VL_INCOME_6M', 'VL_CURR_BALANCE_12M', 'VL_TXN_ALL_12M',\n",
    "                    'VL_INCOME_12M']\n",
    "\n",
    "for column_name in columns_to_ratio: \n",
    "    create_ratio_column(local_sample, column_name)\n",
    "    local_sample = local_sample.drop(column_name, axis=1)\n",
    "local_sample"
   ]
  },
  {
   "cell_type": "code",
   "execution_count": null,
   "id": "6d9ff42a",
   "metadata": {},
   "outputs": [],
   "source": [
    "local_sample.value_counts('DT_TXN_MONTH')"
   ]
  },
  {
   "cell_type": "code",
   "execution_count": null,
   "id": "c67a8a4e",
   "metadata": {},
   "outputs": [],
   "source": [
    "local_sample_train = local_sample[local_sample['DT_TXN_MONTH'] < 12]\n",
    "local_sample_train.shape"
   ]
  },
  {
   "cell_type": "code",
   "execution_count": null,
   "id": "31b0696b",
   "metadata": {},
   "outputs": [],
   "source": [
    "local_sample_test = local_sample[local_sample['DT_TXN_MONTH'] == 12]\n",
    "local_sample_test"
   ]
  },
  {
   "cell_type": "code",
   "execution_count": null,
   "id": "9b3065e5",
   "metadata": {},
   "outputs": [],
   "source": [
    "local_scaler = MinMaxScaler(feature_range=(0, 10), copy=False)\n",
    "local_sample_train_scaled = local_scaler.fit_transform(np.array(local_sample_train))\n",
    "local_model = ECOD(contamination=0.01, n_jobs=-1)\n",
    "local_model.fit(local_sample_train_scaled)"
   ]
  },
  {
   "cell_type": "code",
   "execution_count": null,
   "id": "5e16d04a",
   "metadata": {},
   "outputs": [],
   "source": [
    "dummy_data_local_test = local_sample_test.values.tolist()[0]\n",
    "dummy_data_local_test_scaled = local_scaler.transform([dummy_data_local_test])\n",
    "local_model.predict(dummy_data_local_test_scaled)"
   ]
  },
  {
   "cell_type": "code",
   "execution_count": null,
   "id": "619177bd",
   "metadata": {},
   "outputs": [],
   "source": [
    "dummy_data_global_test_scaled = global_scaler.transform(np.array(dummy_transaction_df.drop('ID', axis=1)))\n",
    "global_model.predict(dummy_data_global_test_scaled)"
   ]
  },
  {
   "cell_type": "code",
   "execution_count": null,
   "id": "cfb4a462",
   "metadata": {},
   "outputs": [],
   "source": [
    "import tensorflow as tf\n",
    "from tensorflow import keras\n",
    "from tensorflow.keras import layers"
   ]
  },
  {
   "cell_type": "code",
   "execution_count": null,
   "id": "8b69171f",
   "metadata": {},
   "outputs": [],
   "source": [
    "global_input = keras.Input(shape=(global_train_scaled.shape[1],))\n",
    "x = layers.Dense(16, activation=\"relu\")(global_input)\n",
    "x = layers.Dense(8, activation=\"relu\")(x)\n",
    "x = layers.Dense(16, activation=\"relu\")(x)\n",
    "global_out = layers.Dense(global_train_scaled.shape[1], activation='sigmoid')(x)\n",
    "                          \n",
    "local_scaled = scaler.fit_transform(np.array(local_sample))\n",
    "local_input = keras.Input(shape=(local_scaled.shape[1],))\n",
    "x = layers.Dense(8, activation=\"relu\")(local_input)\n",
    "x = layers.Dense(4, activation=\"relu\")(x)\n",
    "x = layers.Dense(8, activation=\"relu\")(x)\n",
    "local_out = layers.Dense(local_scaled.shape[1], activation='sigmoid')(x)\n",
    "\n",
    "x = layers.concatenate([global_out, local_out])\n",
    "ensamble = layers.Dense(1)(x)\n",
    "\n",
    "model = keras.Model(\n",
    "    inputs=[global_input, local_input],\n",
    "    outputs=ensamble\n",
    ")\n",
    "\n",
    "model.summary()"
   ]
  }
 ],
 "metadata": {
  "kernelspec": {
   "display_name": "Python 3 (ipykernel)",
   "language": "python",
   "name": "python3"
  },
  "language_info": {
   "codemirror_mode": {
    "name": "ipython",
    "version": 3
   },
   "file_extension": ".py",
   "mimetype": "text/x-python",
   "name": "python",
   "nbconvert_exporter": "python",
   "pygments_lexer": "ipython3",
   "version": "3.8.13"
  }
 },
 "nbformat": 4,
 "nbformat_minor": 5
}
