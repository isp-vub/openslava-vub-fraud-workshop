{
 "cells": [
  {
   "cell_type": "code",
   "execution_count": null,
   "id": "943054d6",
   "metadata": {
    "scrolled": true
   },
   "outputs": [],
   "source": [
    "import pandas as pd\n",
    "from pyod.models.ecod import ECOD\n",
    "import numpy as np\n",
    "from sklearn.preprocessing import MinMaxScaler\n",
    "pd.options.mode.chained_assignment = None "
   ]
  },
  {
   "cell_type": "code",
   "execution_count": null,
   "id": "962bc3d9",
   "metadata": {
    "scrolled": false
   },
   "outputs": [],
   "source": [
    "df_customer = pd.read_feather('data/real_customer_metadata_openslava.ftr')\n",
    "df_customer = df_customer.dropna()\n",
    "df_customer"
   ]
  },
  {
   "cell_type": "code",
   "execution_count": null,
   "id": "bf9ca3f1",
   "metadata": {
    "scrolled": false
   },
   "outputs": [],
   "source": [
    "df_customer['CITY_ADDRESS'] = df_customer['CITY_ADDRESS'].astype('category').cat.codes\n",
    "df_customer['GENDER'] = df_customer['GENDER'].astype('category').cat.codes\n",
    "df_customer"
   ]
  },
  {
   "cell_type": "code",
   "execution_count": null,
   "id": "b3bfbeab",
   "metadata": {},
   "outputs": [],
   "source": [
    "df_transaction = pd.read_feather('data/real_transactions_openslava.ftr')\n",
    "df_transaction = df_transaction.dropna()\n",
    "df_transaction"
   ]
  },
  {
   "cell_type": "code",
   "execution_count": null,
   "id": "192421fd",
   "metadata": {},
   "outputs": [],
   "source": [
    "df_transaction = df_transaction.drop('CURRENCY', axis=1)"
   ]
  },
  {
   "cell_type": "code",
   "execution_count": null,
   "id": "ad9362b9",
   "metadata": {},
   "outputs": [],
   "source": [
    "df_transaction['DT_TXN_DAY'] = df_transaction['DT_TXN'].astype(str)\n",
    "df_transaction['DT_TXN_DAY'] = df_transaction['DT_TXN_DAY'].apply(lambda x: x[len('YYYY-MM-'):])\n",
    "df_transaction['DT_TXN_DAY'] = df_transaction['DT_TXN_DAY'].astype(int)\n",
    "\n",
    "df_transaction['DT_TXN_MONTH'] = df_transaction['DT_TXN'].astype(str)\n",
    "df_transaction['DT_TXN_MONTH'] = df_transaction['DT_TXN_MONTH'].apply(lambda x: x[len('YYYY-'):-len('-DD')])\n",
    "df_transaction['DT_TXN_MONTH'] = df_transaction['DT_TXN_MONTH'].astype(int)\n",
    "\n",
    "df_transaction = df_transaction.drop('DT_TXN', axis=1)\n",
    "df_transaction"
   ]
  },
  {
   "cell_type": "code",
   "execution_count": null,
   "id": "dc1b8709",
   "metadata": {
    "scrolled": false
   },
   "outputs": [],
   "source": [
    "df_merged = pd.merge(df_customer, df_transaction, on='ID')\n",
    "df_merged"
   ]
  },
  {
   "cell_type": "code",
   "execution_count": null,
   "id": "589a775b",
   "metadata": {},
   "outputs": [],
   "source": [
    "scaler = MinMaxScaler(feature_range=(0, 10), copy=False)\n",
    "global_scaled = scaler.fit_transform(np.array(df_merged.drop('ID', axis=1)))\n",
    "ecod = ECOD(contamination=0.0001, n_jobs=-1)\n",
    "ecod.fit(global_scaled)"
   ]
  },
  {
   "cell_type": "code",
   "execution_count": null,
   "id": "2b8fad16",
   "metadata": {},
   "outputs": [],
   "source": [
    "def create_ratio_column(df, column_name):\n",
    "    df[f'{column_name}_ratio'] = df.apply(lambda row: row.VL_TXN / row[column_name], axis=1)"
   ]
  },
  {
   "cell_type": "code",
   "execution_count": null,
   "id": "251a2fcc",
   "metadata": {},
   "outputs": [],
   "source": [
    "df_list = [g for _, g in df_merged.groupby('ID')]\n",
    "train_df = df_list[0]\n",
    "train_df = train_df.drop(['ID', 'GENDER', 'AGE_YEARS', 'CITY_ADDRESS', 'CNT_CARDS', 'CNT_TXN', 'CNT_TXN_3M',\n",
    "                         'CNT_TXN_6M', 'CNT_TXN_12M'], axis=1)\n",
    "columns_to_ratio = ['VL_CURR_BALANCE', 'VL_INCOME', 'VL_TXN_ALL', 'VL_CURR_BALANCE_3M', 'VL_TXN_ALL_3M', 'VL_INCOME_3M',\n",
    "                    'VL_CURR_BALANCE_6M', 'VL_TXN_ALL_6M', 'VL_INCOME_6M', 'VL_CURR_BALANCE_12M', 'VL_TXN_ALL_12M',\n",
    "                    'VL_INCOME_12M']\n",
    "\n",
    "for column_name in columns_to_ratio: \n",
    "    create_ratio_column(train_df, column_name)\n",
    "    train_df = train_df.drop(column_name, axis=1)\n",
    "train_df"
   ]
  },
  {
   "cell_type": "code",
   "execution_count": null,
   "id": "cfb4a462",
   "metadata": {},
   "outputs": [],
   "source": [
    "import tensorflow as tf\n",
    "from tensorflow import keras\n",
    "from tensorflow.keras import layers"
   ]
  },
  {
   "cell_type": "code",
   "execution_count": null,
   "id": "8b69171f",
   "metadata": {},
   "outputs": [],
   "source": [
    "global_input = keras.Input(shape=(global_scaled.shape[1],))\n",
    "x = layers.Dense(16, activation=\"relu\")(global_input)\n",
    "x = layers.Dense(8, activation=\"relu\")(x)\n",
    "x = layers.Dense(16, activation=\"relu\")(x)\n",
    "global_out = layers.Dense(global_scaled.shape[1], activation='sigmoid')(x)\n",
    "                          \n",
    "local_scaled = scaler.fit_transform(np.array(train_df))\n",
    "local_input = keras.Input(shape=(local_scaled.shape[1],))\n",
    "x = layers.Dense(8, activation=\"relu\")(local_input)\n",
    "x = layers.Dense(4, activation=\"relu\")(x)\n",
    "x = layers.Dense(8, activation=\"relu\")(x)\n",
    "local_out = layers.Dense(local_scaled.shape[1], activation='sigmoid')(x)\n",
    "\n",
    "x = layers.concatenate([global_out, local_out])\n",
    "ensamble = layers.Dense(1)(x)\n",
    "\n",
    "model = keras.Model(\n",
    "    inputs=[global_input, local_input],\n",
    "    outputs=ensamble\n",
    ")\n",
    "\n",
    "model.summary()"
   ]
  }
 ],
 "metadata": {
  "kernelspec": {
   "display_name": "Python 3 (ipykernel)",
   "language": "python",
   "name": "python3"
  },
  "language_info": {
   "codemirror_mode": {
    "name": "ipython",
    "version": 3
   },
   "file_extension": ".py",
   "mimetype": "text/x-python",
   "name": "python",
   "nbconvert_exporter": "python",
   "pygments_lexer": "ipython3",
   "version": "3.8.13"
  }
 },
 "nbformat": 4,
 "nbformat_minor": 5
}
